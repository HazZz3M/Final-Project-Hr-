{
 "cells": [
  {
   "cell_type": "code",
   "execution_count": 77,
   "metadata": {},
   "outputs": [],
   "source": [
    "import pandas as pd"
   ]
  },
  {
   "cell_type": "code",
   "execution_count": 65,
   "metadata": {},
   "outputs": [],
   "source": [
    "df=pd.read_csv(\"Employee.csv\")"
   ]
  },
  {
   "cell_type": "code",
   "execution_count": 4,
   "metadata": {},
   "outputs": [],
   "source": [
    "# pd.options.display.max_columns = None\n",
    "# pd.options.display.max_rows = None\n",
    "# to show all rows and columns\n"
   ]
  },
  {
   "cell_type": "code",
   "execution_count": 108,
   "metadata": {},
   "outputs": [],
   "source": [
    "# df.info()"
   ]
  },
  {
   "cell_type": "code",
   "execution_count": 66,
   "metadata": {},
   "outputs": [
    {
     "data": {
      "text/plain": [
       "[]"
      ]
     },
     "execution_count": 66,
     "metadata": {},
     "output_type": "execute_result"
    }
   ],
   "source": [
    "nulls=df.isnull().stack()       # you will get row number, column name, boolean value(T OR F)\n",
    "T_null=nulls[nulls].index.tolist() # you will get list composed of row number , column namr for true values only (position)\n",
    "T_null\n",
    "\n",
    "# 1.No null values"
   ]
  },
  {
   "cell_type": "code",
   "execution_count": 67,
   "metadata": {},
   "outputs": [],
   "source": [
    "df['HireDate']=pd.to_datetime(df['HireDate'])\n",
    "# 2.Change data type(one column affected)"
   ]
  },
  {
   "cell_type": "code",
   "execution_count": 8,
   "metadata": {},
   "outputs": [
    {
     "name": "stdout",
     "output_type": "stream",
     "text": [
      "None\n"
     ]
    }
   ],
   "source": [
    "print(df.drop_duplicates(inplace=True))\n",
    "# 3.No dublicated values"
   ]
  },
  {
   "cell_type": "code",
   "execution_count": 68,
   "metadata": {},
   "outputs": [],
   "source": [
    "df=df.map(lambda x: x.strip() if isinstance(x,str) else x)   \n",
    "#4. remove spaces from string\n"
   ]
  },
  {
   "cell_type": "code",
   "execution_count": 105,
   "metadata": {},
   "outputs": [
    {
     "data": {
      "text/plain": [
       "124"
      ]
     },
     "execution_count": 105,
     "metadata": {},
     "output_type": "execute_result"
    }
   ],
   "source": [
    "Q1=df['Salary'].quantile(0.25)\n",
    "Q3=df['Salary'].quantile(0.75)\n",
    "IQR=Q3-Q1\n",
    "Lower_Salary=Q1-(1.5*IQR)\n",
    "Higher_Salary=Q3+(1.5*IQR)\n",
    "outliers=df.loc[(df['Salary']<Lower_Salary)| (df['Salary']>Higher_Salary)]\n",
    "# # print(df['Salary'].isna().sum())   to check there is no null values in salary column\n",
    "len(outliers)\n",
    "# outliers\n",
    "# delete_outliers=df.loc[(df['Salary']>Lower_Salary) & (df['Salary']<Higher_Salary)]\n",
    "# len(delete_outliers)\n",
    "# detect the outliers\n",
    "\n",
    "\n",
    "\n"
   ]
  },
  {
   "cell_type": "code",
   "execution_count": 109,
   "metadata": {},
   "outputs": [],
   "source": [
    "# df['Salary'].describe()"
   ]
  },
  {
   "cell_type": "code",
   "execution_count": 69,
   "metadata": {},
   "outputs": [
    {
     "name": "stdout",
     "output_type": "stream",
     "text": [
      "EmployeeID                         object\n",
      "FirstName                          object\n",
      "LastName                           object\n",
      "Gender                             object\n",
      "Age                                 int64\n",
      "BusinessTravel                     object\n",
      "Department                         object\n",
      "DistanceFromHome (KM)               int64\n",
      "State                              object\n",
      "Ethnicity                          object\n",
      "Education                           int64\n",
      "EducationField                     object\n",
      "JobRole                            object\n",
      "MaritalStatus                      object\n",
      "Salary                              int64\n",
      "StockOptionLevel                    int64\n",
      "OverTime                           object\n",
      "HireDate                   datetime64[ns]\n",
      "Attrition                          object\n",
      "YearsAtCompany                      int64\n",
      "YearsInMostRecentRole               int64\n",
      "YearsSinceLastPromotion             int64\n",
      "YearsWithCurrManager                int64\n",
      "dtype: object\n"
     ]
    }
   ],
   "source": [
    "\n",
    "data_type=df.dtypes\n",
    "print(data_type)\n",
    "# check"
   ]
  },
  {
   "cell_type": "code",
   "execution_count": 107,
   "metadata": {},
   "outputs": [],
   "source": [
    "df.to_csv('Employee.csv' , index=False)\n",
    "# to update your csv file (after you finish your work)"
   ]
  }
 ],
 "metadata": {
  "kernelspec": {
   "display_name": "Python 3",
   "language": "python",
   "name": "python3"
  },
  "language_info": {
   "codemirror_mode": {
    "name": "ipython",
    "version": 3
   },
   "file_extension": ".py",
   "mimetype": "text/x-python",
   "name": "python",
   "nbconvert_exporter": "python",
   "pygments_lexer": "ipython3",
   "version": "3.12.4"
  }
 },
 "nbformat": 4,
 "nbformat_minor": 2
}
